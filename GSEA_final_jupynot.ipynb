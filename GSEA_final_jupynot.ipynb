{
 "cells": [
  {
   "cell_type": "code",
   "execution_count": 8,
   "id": "23004377",
   "metadata": {},
   "outputs": [],
   "source": [
    "import pandas as pd\n",
    "from pandas import DataFrame as df\n",
    "import gseapy as gp\n",
    "from gseapy import gseaplot, heatmap, dotplot, ringplot\n",
    "from gseapy.plot import barplot, dotplot\n",
    "import matplotlib.pyplot as plt\n",
    "import sys\n",
    "import numpy as np \n",
    "from gseapy import biomart\n",
    "from shared_functions import *"
   ]
  },
  {
   "cell_type": "code",
   "execution_count": 15,
   "id": "b5131253",
   "metadata": {},
   "outputs": [],
   "source": [
    "def main():\n",
    "    expr_dict = rnaseqs_to_dict([\"RawData/HUMAN_gsea.txt\",\"RawData/mus_rna_seq_final.txt\", \"RawData/yeast_degs.txt\"])\n",
    "    run_gsea(expr_dict[\"RawData/HUMAN_gsea.txt\"], \"hsapiens\", \"human\" )\n",
    "    run_gsea(expr_dict[\"RawData/mus_rna_seq_final.txt\"],\"mmusculus\",\"mouse\" )\n",
    "    run_gsea(expr_dict[\"RawData/yeast_degs.txt\"],\"scerevisiae\", \"Yeast\")"
   ]
  },
  {
   "cell_type": "code",
   "execution_count": 17,
   "id": "ab74ea09",
   "metadata": {},
   "outputs": [],
   "source": [
    "def run_gsea(expr_dict, species, common_name):\n",
    "    gene_list = {}\n",
    "    for gene in expr_dict:\n",
    "        gene_list[gene] = float(expr_dict[gene][0]) \n",
    "    glist = sorted(gene_list, key = gene_list.get, reverse = True)\n",
    "    #call species_annotation_df function and decalare species and ensemble data types\n",
    "    x=species_annotation_df(species, 'external_gene_name')\n",
    "    #create a dictonary that replaces glist ranked geneIDs with the appropriate entrez IDs\n",
    "    ensembl2entrez = {}\n",
    "    for gene in x:\n",
    "        ensembl2entrez[gene]=x[gene][0]\n",
    "    #convert gene names to gene symbols in previosuly ranked list37     \n",
    "    elist = []  \n",
    "    for gene in glist:\n",
    "         if gene in ensembl2entrez:\n",
    "                elist.append(ensembl2entrez[gene])\n",
    "    type(elist)\n",
    "    #Run enrichr wrapper on new elist with declared gene set and species name\n",
    "    enr = gp.enrichr(gene_list=elist, \n",
    "                     gene_sets=['GO_Molecular_Function_2021', 'GO_Biological_Process_2021', 'Pfam_Domains_2019'],\n",
    "                     organism=common_name,\n",
    "                     outdir=None, #doesn't save the output to your machine               \n",
    "                     )\n",
    "    enr.results.to_csv(f'{species}_gsearesults.tsv', sep = '\\t')   \n",
    "    #plot enriched data sets\n",
    "    barplot(enr.res2d,title='GO_Molecular_Function_2021', ofname=f'{common_name}_barplot.png')\n",
    "    dotplot(enr.res2d,title='GO_Molecular_Function_2021', ofname=f'{common_name}_dotplot.png')\n",
    "    \n",
    "if __name__ == \"__main__\":\n",
    "     main()"
   ]
  },
  {
   "cell_type": "code",
   "execution_count": null,
   "id": "919c0e92",
   "metadata": {},
   "outputs": [],
   "source": []
  },
  {
   "cell_type": "code",
   "execution_count": null,
   "id": "a13bd8ed",
   "metadata": {},
   "outputs": [],
   "source": []
  },
  {
   "cell_type": "code",
   "execution_count": null,
   "id": "fe5747ad",
   "metadata": {},
   "outputs": [],
   "source": []
  },
  {
   "cell_type": "code",
   "execution_count": null,
   "id": "1e7f8a69",
   "metadata": {},
   "outputs": [],
   "source": []
  },
  {
   "cell_type": "code",
   "execution_count": null,
   "id": "56b9a64d",
   "metadata": {},
   "outputs": [],
   "source": []
  }
 ],
 "metadata": {
  "kernelspec": {
   "display_name": "Python 3 (ipykernel)",
   "language": "python",
   "name": "python3"
  },
  "language_info": {
   "codemirror_mode": {
    "name": "ipython",
    "version": 3
   },
   "file_extension": ".py",
   "mimetype": "text/x-python",
   "name": "python",
   "nbconvert_exporter": "python",
   "pygments_lexer": "ipython3",
   "version": "3.10.6"
  }
 },
 "nbformat": 4,
 "nbformat_minor": 5
}
